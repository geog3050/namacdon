{
 "cells": [
  {
   "cell_type": "code",
   "execution_count": 11,
   "metadata": {},
   "outputs": [],
   "source": [
    "%%capture\n",
    "!pip install CensusData\n",
    "import censusdata"
   ]
  },
  {
   "cell_type": "code",
   "execution_count": 46,
   "metadata": {},
   "outputs": [
    {
     "data": {
      "text/plain": [
       "{'B15003001': 'Total',\n",
       " 'B15003002': 'No Schooling Completed',\n",
       " 'B15003003': 'Nursery School',\n",
       " 'B15003004': 'Kindergarten',\n",
       " 'B15003005': '1st Grade',\n",
       " 'B15003006': '2nd Grade',\n",
       " 'B15003007': '3rd Grade',\n",
       " 'B15003008': '4th Grade',\n",
       " 'B15003009': '5th Grade',\n",
       " 'B15003010': '6th Grade',\n",
       " 'B15003011': '7th Grade',\n",
       " 'B15003012': '8th Grade',\n",
       " 'B15003013': '9th Grade',\n",
       " 'B15003014': '10th Grade',\n",
       " 'B15003015': '11th Grade',\n",
       " 'B15003016': '12th Grade, No Diploma',\n",
       " 'B15003017': 'Regular High School Diploma',\n",
       " 'B15003018': 'GED or Alternative Credential',\n",
       " 'B15003019': 'Some College, Less than 1 Year',\n",
       " 'B15003020': 'Some College, 1 or More Years, No Degree',\n",
       " 'B15003021': \"Associate's Degree\",\n",
       " 'B15003022': \"Bachelor's Degree\",\n",
       " 'B15003023': \"Master's Degree\",\n",
       " 'B15003024': 'Professional School Degree',\n",
       " 'B15003025': 'Doctorate Degree'}"
      ]
     },
     "execution_count": 46,
     "metadata": {},
     "output_type": "execute_result"
    }
   ],
   "source": [
    "import csv\n",
    "b15_codes = {}\n",
    "with open(r\"C:\\Users\\Neal\\OneDrive - University of Iowa\\Spring 2021\\GEOG 5540\\Assignment 5\\B15003_codes.csv\",newline='') as csvfile:\n",
    "    csv_read = csv.reader(csvfile)\n",
    "    for row in csv_read:\n",
    "        b15_codes[row[0]] = row[1]\n",
    "b15_codes_list = [value[:6]+\"_\"+value[-3:]+\"E\" for value in b15_codes.keys()]\n",
    "b15_codes"
   ]
  },
  {
   "cell_type": "code",
   "execution_count": null,
   "metadata": {},
   "outputs": [],
   "source": []
  },
  {
   "cell_type": "code",
   "execution_count": 48,
   "metadata": {},
   "outputs": [],
   "source": [
    "no_diploma = censusdata.download('acs5',2019,censusdata.censusgeo([('state','12'),\n",
    "                                                        ('county','*')]),\n",
    "                                                    b15_codes_list[1:20])\n",
    "diploma = censusdata.download('acs5',2019,censusdata.censusgeo([('state','12'),\n",
    "                                                        ('county','*')]),\n",
    "                                                    b15_codes_list[1:20])"
   ]
  },
  {
   "cell_type": "code",
   "execution_count": 3,
   "metadata": {},
   "outputs": [],
   "source": [
    "data = censusdata.download('acs5',2019,censusdata.censusgeo([('state','12'),\n",
    "                                                        ('county','*')]),\n",
    "                           ['B01001_001E','B19113_001E','B15003_023E',\n",
    "                            'B15003_024E','B15003_025E'])\n",
    "\n",
    "data.columns =['Total Population','Median family income','Masters degree',\n",
    "               'Professional school degree','Doctoral Degree']"
   ]
  },
  {
   "cell_type": "code",
   "execution_count": null,
   "metadata": {},
   "outputs": [],
   "source": [
    "data[\"No High School Degree or GED\"] = data['9th grade']+data['10th grade']+data['11th grade']+data['12th grade, no diploma']\n",
    "del data['9th grade']\n",
    "del data['10th grade']\n",
    "del data['11th grade']\n",
    "del data['12th grade, no diploma']"
   ]
  },
  {
   "cell_type": "code",
   "execution_count": null,
   "metadata": {},
   "outputs": [],
   "source": [
    "data[\"GED or High School Diploma\"] = data['Regular high school diploma'] + data['GED or alternative credential']\n",
    "del data['Regular high school diploma']\n",
    "del data['GED or alternative credential']"
   ]
  },
  {
   "cell_type": "code",
   "execution_count": null,
   "metadata": {},
   "outputs": [],
   "source": [
    "data[\"Some College - No Degree\"] = data['Some college, less than 1 year'] + data['Some college, 1 or more years, no degree']\n",
    "del data['Some college, less than 1 year']\n",
    "del data['Some college, 1 or more years, no degree']"
   ]
  },
  {
   "cell_type": "code",
   "execution_count": null,
   "metadata": {},
   "outputs": [],
   "source": [
    "data[\"Undergrad Degree\"] = data['Associates degree'] + data['Bachelors degree']\n",
    "del data['Associates degree']\n",
    "del data['Bachelors degree']"
   ]
  },
  {
   "cell_type": "code",
   "execution_count": 5,
   "metadata": {},
   "outputs": [],
   "source": [
    "data[\"Graduate Degree\"] = data['Masters degree'] + data['Professional school degree']+data['Doctoral Degree']\n",
    "del data['Masters degree']\n",
    "del data['Professional school degree']\n",
    "del data['Doctoral Degree']"
   ]
  },
  {
   "cell_type": "code",
   "execution_count": 8,
   "metadata": {},
   "outputs": [
    {
     "name": "stdout",
     "output_type": "stream",
     "text": [
      "['12133', '12031', '12007', '12009', '12019', '12067', '12069', '12089', '12103', '12105', '12111', '12043', '12051', '12061', '12063', '12109', '12117', '12005', '12035', '12045', '12077', '12097', '12131', '12039', '12065', '12083', '12049', '12093', '12095', '12041', '12121', '12001', '12013', '12015', '12029', '12085', '12115', '12081', '12017', '12003', '12113', '12073', '12011', '12087', '12053', '12057', '12123', '12129', '12099', '12086', '12037', '12047', '12119', '12059', '12071', '12021', '12101', '12055', '12027', '12023', '12107', '12125', '12075', '12127', '12079', '12033', '12091']\n"
     ]
    }
   ],
   "source": [
    "g = censusdata.geographies(censusdata.censusgeo([('state', '12'), ('county', '*')]), 'acs5', 2019)\n",
    "codes = []\n",
    "for item in g.items():\n",
    "    for tup in item:\n",
    "        if str(tup).startswith(\"Summary level\"):\n",
    "            geocode = \"\"\n",
    "            county = str(tup)[37:40]\n",
    "            geocode = \"12\"+county\n",
    "            codes.append(geocode)\n",
    "print(codes)"
   ]
  },
  {
   "cell_type": "code",
   "execution_count": 9,
   "metadata": {},
   "outputs": [],
   "source": [
    "data['geocodes'] = codes\n",
    "data = data.set_index('geocodes')"
   ]
  },
  {
   "cell_type": "code",
   "execution_count": 10,
   "metadata": {},
   "outputs": [
    {
     "data": {
      "text/html": [
       "<div>\n",
       "<style scoped>\n",
       "    .dataframe tbody tr th:only-of-type {\n",
       "        vertical-align: middle;\n",
       "    }\n",
       "\n",
       "    .dataframe tbody tr th {\n",
       "        vertical-align: top;\n",
       "    }\n",
       "\n",
       "    .dataframe thead th {\n",
       "        text-align: right;\n",
       "    }\n",
       "</style>\n",
       "<table border=\"1\" class=\"dataframe\">\n",
       "  <thead>\n",
       "    <tr style=\"text-align: right;\">\n",
       "      <th></th>\n",
       "      <th>Total Population</th>\n",
       "      <th>Median family income</th>\n",
       "      <th>Graduate Degree</th>\n",
       "    </tr>\n",
       "    <tr>\n",
       "      <th>geocodes</th>\n",
       "      <th></th>\n",
       "      <th></th>\n",
       "      <th></th>\n",
       "    </tr>\n",
       "  </thead>\n",
       "  <tbody>\n",
       "    <tr>\n",
       "      <th>12133</th>\n",
       "      <td>24764</td>\n",
       "      <td>47022</td>\n",
       "      <td>701</td>\n",
       "    </tr>\n",
       "    <tr>\n",
       "      <th>12031</th>\n",
       "      <td>936186</td>\n",
       "      <td>67947</td>\n",
       "      <td>64622</td>\n",
       "    </tr>\n",
       "    <tr>\n",
       "      <th>12007</th>\n",
       "      <td>27317</td>\n",
       "      <td>54554</td>\n",
       "      <td>704</td>\n",
       "    </tr>\n",
       "    <tr>\n",
       "      <th>12009</th>\n",
       "      <td>585507</td>\n",
       "      <td>71135</td>\n",
       "      <td>50015</td>\n",
       "    </tr>\n",
       "    <tr>\n",
       "      <th>12019</th>\n",
       "      <td>211405</td>\n",
       "      <td>74803</td>\n",
       "      <td>11516</td>\n",
       "    </tr>\n",
       "    <tr>\n",
       "      <th>12067</th>\n",
       "      <td>8637</td>\n",
       "      <td>60360</td>\n",
       "      <td>388</td>\n",
       "    </tr>\n",
       "    <tr>\n",
       "      <th>12069</th>\n",
       "      <td>345867</td>\n",
       "      <td>65724</td>\n",
       "      <td>22094</td>\n",
       "    </tr>\n",
       "    <tr>\n",
       "      <th>12089</th>\n",
       "      <td>83098</td>\n",
       "      <td>81672</td>\n",
       "      <td>6927</td>\n",
       "    </tr>\n",
       "    <tr>\n",
       "      <th>12103</th>\n",
       "      <td>964666</td>\n",
       "      <td>72411</td>\n",
       "      <td>82397</td>\n",
       "    </tr>\n",
       "    <tr>\n",
       "      <th>12105</th>\n",
       "      <td>686218</td>\n",
       "      <td>58508</td>\n",
       "      <td>33166</td>\n",
       "    </tr>\n",
       "  </tbody>\n",
       "</table>\n",
       "</div>"
      ],
      "text/plain": [
       "          Total Population  Median family income  Graduate Degree\n",
       "geocodes                                                         \n",
       "12133                24764                 47022              701\n",
       "12031               936186                 67947            64622\n",
       "12007                27317                 54554              704\n",
       "12009               585507                 71135            50015\n",
       "12019               211405                 74803            11516\n",
       "12067                 8637                 60360              388\n",
       "12069               345867                 65724            22094\n",
       "12089                83098                 81672             6927\n",
       "12103               964666                 72411            82397\n",
       "12105               686218                 58508            33166"
      ]
     },
     "execution_count": 10,
     "metadata": {},
     "output_type": "execute_result"
    }
   ],
   "source": [
    "data[:10]"
   ]
  },
  {
   "cell_type": "code",
   "execution_count": null,
   "metadata": {},
   "outputs": [],
   "source": [
    "data.to_csv(r\"C:\\Users\\Neal\\OneDrive - University of Iowa\\Spring 2021\\GEOG 5540\\Assignment 4\\texas_education.csv\")"
   ]
  }
 ],
 "metadata": {
  "kernelspec": {
   "display_name": "Python 3",
   "language": "python",
   "name": "python3"
  },
  "language_info": {
   "codemirror_mode": {
    "name": "ipython",
    "version": 3
   },
   "file_extension": ".py",
   "mimetype": "text/x-python",
   "name": "python",
   "nbconvert_exporter": "python",
   "pygments_lexer": "ipython3",
   "version": "3.8.5"
  }
 },
 "nbformat": 4,
 "nbformat_minor": 4
}
