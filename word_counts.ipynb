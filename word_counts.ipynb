{
 "cells": [
  {
   "cell_type": "code",
   "execution_count": 5,
   "id": "sustained-arbitration",
   "metadata": {},
   "outputs": [],
   "source": [
    "import numpy as np\n",
    "import pandas as pd\n",
    "import string\n",
    "import matplotlib.pyplot as plt\n",
    "import urllib\n",
    "import re"
   ]
  },
  {
   "cell_type": "code",
   "execution_count": 2,
   "id": "chinese-connecticut",
   "metadata": {},
   "outputs": [],
   "source": [
    "data = pd.read_csv(r\"C:\\Users\\Neal\\OneDrive - University of Iowa\\Spring 2021\\GEOG 3760\\Content Analysis\\new_list.csv\")"
   ]
  },
  {
   "cell_type": "code",
   "execution_count": 3,
   "id": "scheduled-violence",
   "metadata": {},
   "outputs": [],
   "source": [
    "stringtext = \"\"\n",
    "for i in data[\"Headline\"]:\n",
    "    stringtext += str(i+\" \").lower()\n",
    "headlines_clear = stringtext.translate(str.maketrans('', '', string.punctuation))\n",
    "headlines_wordlist = headlines_clear.split()\n",
    "headlines_wordfreq = {}\n",
    "for w in headlines_wordlist:\n",
    "    headlines_wordfreq[w] = headlines_wordlist.count(w)\n",
    "headlines = dict(sorted(headlines_wordfreq.items(), key = lambda item: item[1],reverse=True))"
   ]
  },
  {
   "cell_type": "code",
   "execution_count": null,
   "id": "manual-india",
   "metadata": {},
   "outputs": [],
   "source": [
    "headlines['president'] + headlines['President']"
   ]
  },
  {
   "cell_type": "code",
   "execution_count": 6,
   "id": "meaningful-attitude",
   "metadata": {},
   "outputs": [
    {
     "data": {
      "text/plain": [
       "16360"
      ]
     },
     "execution_count": 6,
     "metadata": {},
     "output_type": "execute_result"
    }
   ],
   "source": [
    "f = open(r\"C:\\Users\\Neal\\OneDrive - University of Iowa\\Spring 2021\\GEOG 3760\\Content Analysis\\Factiva-20210312-0717.rtf\").read()\n",
    "f_clear = re.sub(\"[^-9A-Za-z ]\", \"\" , f)\n",
    "f_split = f_clear.split()\n",
    "f_wordfreq = {}\n",
    "for w in f_split:\n",
    "    f_wordfreq[w] = f_split.count(w)\n",
    "f_wordfreq[w]"
   ]
  },
  {
   "cell_type": "code",
   "execution_count": 79,
   "id": "eastern-recipe",
   "metadata": {},
   "outputs": [],
   "source": [
    "f_sorted = dict(sorted(f_wordfreq.items(), key = lambda item: item[1],reverse=True))"
   ]
  },
  {
   "cell_type": "code",
   "execution_count": 85,
   "id": "convinced-north",
   "metadata": {},
   "outputs": [
    {
     "data": {
      "text/plain": [
       "693"
      ]
     },
     "execution_count": 85,
     "metadata": {},
     "output_type": "execute_result"
    }
   ],
   "source": [
    "f_sorted['president'] + f_sorted['President']"
   ]
  },
  {
   "cell_type": "code",
   "execution_count": 19,
   "id": "ordered-louisiana",
   "metadata": {},
   "outputs": [],
   "source": [
    "df_headlines = pd.DataFrame.from_dict(headlines,orient='index')\n",
    "df_headlines.columns = df_headlines.columns.map(str)\n",
    "df = df_headlines[df_headlines.index.str.len()>4]"
   ]
  },
  {
   "cell_type": "code",
   "execution_count": 29,
   "id": "ahead-underground",
   "metadata": {},
   "outputs": [
    {
     "data": {
      "image/png": "[encoded data removed]",
      "text/plain": [
       "<Figure size 432x288 with 1 Axes>"
      ]
     },
     "metadata": {
      "needs_background": "light"
     },
     "output_type": "display_data"
    }
   ],
   "source": [
    "plt.bar(df.index[:20],df[\"0\"][:20])\n",
    "plt.ylabel('Word Count')\n",
    "plt.xlabel('Word')\n",
    "plt.xticks(df.index[:20], df.index[:20], rotation='vertical')\n",
    "plt.show()"
   ]
  }
 ],
 "metadata": {
  "kernelspec": {
   "display_name": "Python 3",
   "language": "python",
   "name": "python3"
  },
  "language_info": {
   "codemirror_mode": {
    "name": "ipython",
    "version": 3
   },
   "file_extension": ".py",
   "mimetype": "text/x-python",
   "name": "python",
   "nbconvert_exporter": "python",
   "pygments_lexer": "ipython3",
   "version": "3.8.5"
  }
 },
 "nbformat": 4,
 "nbformat_minor": 5
}
