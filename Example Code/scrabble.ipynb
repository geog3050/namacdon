{
 "cells": [
  {
   "cell_type": "code",
   "execution_count": null,
   "metadata": {},
   "outputs": [],
   "source": [
    "fln = open('Documents/Python Scripts/words.txt')"
   ]
  },
  {
   "cell_type": "code",
   "execution_count": null,
   "metadata": {},
   "outputs": [],
   "source": [
    "fln.readline()"
   ]
  },
  {
   "cell_type": "code",
   "execution_count": null,
   "metadata": {},
   "outputs": [],
   "source": [
    "line = fln.readline()\n",
    "word = line.strip()\n",
    "print(word)"
   ]
  },
  {
   "cell_type": "code",
   "execution_count": null,
   "metadata": {},
   "outputs": [],
   "source": [
    "fln = open('Documents/Python Scripts/words.txt')\n",
    "word_list = []\n",
    "for line in fln:\n",
    "    word = line.strip()\n",
    "    if len(word) > 18:\n",
    "        word_list.append(word)\n",
    "\n",
    "print(word_list)"
   ]
  },
  {
   "cell_type": "code",
   "execution_count": null,
   "metadata": {},
   "outputs": [],
   "source": [
    "print(sorted(word_list, reverse=True))"
   ]
  },
  {
   "cell_type": "code",
   "execution_count": null,
   "metadata": {},
   "outputs": [],
   "source": [
    "\n",
    "            \n",
    "\n",
    "fln = open('Documents/Python Scripts/words.txt')\n",
    "word_list = []\n",
    "for line in fln:\n",
    "    word = line.strip()\n",
    "    e_count = \n",
    "    if :\n",
    "        word_list.append(word)"
   ]
  },
  {
   "cell_type": "code",
   "execution_count": null,
   "metadata": {},
   "outputs": [],
   "source": [
    "def letter_count(word, letter):\n",
    "    n = 0\n",
    "    for i in word:\n",
    "        if i == letter:\n",
    "            n += 1\n",
    "    return n"
   ]
  },
  {
   "cell_type": "code",
   "execution_count": null,
   "metadata": {},
   "outputs": [],
   "source": [
    "letter_count('letter','e')"
   ]
  },
  {
   "cell_type": "code",
   "execution_count": null,
   "metadata": {},
   "outputs": [],
   "source": [
    "fln = open('Documents/Python Scripts/words.txt')\n",
    "word_list = []\n",
    "for line in fln:\n",
    "    word = line.strip()\n",
    "    e_count = letter_count(word,'p')\n",
    "    if e_count > 3:\n",
    "        word_list.append(word)\n",
    "print(word_list)"
   ]
  },
  {
   "cell_type": "code",
   "execution_count": null,
   "metadata": {},
   "outputs": [],
   "source": [
    "def word_search():\n",
    "    tiles = input('tiles in your hand')\n",
    "    crosses = input('cross-points on the board')\n",
    "    fln = open('Documents/Python Scripts/words.txt')\n",
    "    letters = set(tiles) | set(crosses)\n",
    "    print(letters)\n",
    "    d = set()\n",
    "    word_list = []\n",
    "    characters = {'a','b','c','d','e','f','g','h','i','j','k','l','m','n','o','p','q','r','s','t','u','v','w','x','y','z'}\n",
    "    for line in fln:\n",
    "        word = line.strip()\n",
    "        word_list.append(word)\n",
    "    for z in letters:\n",
    "        characters.remove(z)\n",
    "    for k in word_list:\n",
    "        if len(k) <= len(letters):\n",
    "            d.add(k)\n",
    "    for l in characters:\n",
    "        for i in d:\n",
    "            if i not in d:\n",
    "                continue\n",
    "            elif l in i:\n",
    "                    d.remove(i)\n",
    "                \n",
    "    return d\n",
    " \n",
    "#def shortener(r):\n",
    "#    for k in r.copy():\n",
    " #       if len(k)+1 > len(letters):\n",
    "  #          r.remove(k)\n",
    "   # return r\n",
    "\n",
    "# def sorter(s):\n",
    "  #   for key in f.copy():\n",
    "    #     val = f[key]\n",
    "      #   if val not in results:\n",
    "        #     results[val] = [key]\n",
    "        # else:\n",
    "          #   results[val].append(key)\n",
    "    # leng = len(letters)\n",
    "   #  return results\n",
    "  \n",
    "word_search()"
   ]
  },
  {
   "cell_type": "code",
   "execution_count": null,
   "metadata": {},
   "outputs": [],
   "source": [
    "fln = open('Documents/Python Scripts/words.txt')\n",
    "word_list = []\n",
    "for line in fln:\n",
    "    word = line.strip()\n",
    "    word_list.append(word)\n",
    "    word_list2 = word_list[20:500]\n",
    "print(word_list2)"
   ]
  },
  {
   "cell_type": "code",
   "execution_count": null,
   "metadata": {},
   "outputs": [],
   "source": [
    "fln = open('Documents/Python Scripts/words.txt')\n",
    "word_list2 = []\n",
    "for line in fln:\n",
    "    word = line.strip()\n",
    "    word_list2.append()\n",
    "print(word_list2)    "
   ]
  },
  {
   "cell_type": "code",
   "execution_count": null,
   "metadata": {},
   "outputs": [],
   "source": [
    "def word_search():\n",
    "    letters = input('tiles in your hand')\n",
    "    crosses = input('cross-points on the board')\n",
    "    fln = open('Documents/Python Scripts/words.txt')\n",
    "    word_list = []\n",
    "    for line in fln:\n",
    "        word = line.strip()\n",
    "        word_list.append(word)\n",
    "    possibles = list(letters)+list(crosses)\n",
    "    word_list= word_list[0:100]\n",
    "    print(word_list)\n",
    "    print(len(letters))\n",
    "    for i in word_list:\n",
    "        for l in i:\n",
    "            if l in possibles:\n",
    "                try:\n",
    "                    word_list.remove(i)\n",
    "                except:\n",
    "                    word_list\n",
    "    for k in word_list:\n",
    "        print(len(k))\n",
    "        if len(k) > len(list(letters)):\n",
    "            try:\n",
    "                word_list.remove(k)\n",
    "            except:\n",
    "                word_list\n",
    "    return word_list\n",
    " \n",
    "\n",
    "def sorter(s):\n",
    "    for key in f.copy():\n",
    "        val = f[key]\n",
    "        if val not in results:\n",
    "            results[val] = [key]\n",
    "        else:\n",
    "            results[val].append(key)\n",
    "    leng = len(letters)\n",
    "    return results[leng], results[leng-1]\n",
    "  \n",
    "word_search()"
   ]
  },
  {
   "cell_type": "code",
   "execution_count": null,
   "metadata": {},
   "outputs": [],
   "source": [
    "def word_search():\n",
    "    tiles = input('tiles in your hand')\n",
    "    crosses = input('cross-points on the board')\n",
    "    fln = open('Documents/Python Scripts/words.txt')\n",
    "    letters = set(tiles) | set(crosses)\n",
    "    print(letters)\n",
    "    d = set()\n",
    "    word_list = []\n",
    "    characters = {'a','b','c','d','e','f','g','h','i','j','k','l','m','n','o','p','q','r','s','t','u','v','w','x','y','z'}\n",
    "    for line in fln:\n",
    "        word = line.strip()\n",
    "        word_list.append(word)\n",
    "    for z in letters:\n",
    "        characters.remove(z)\n",
    "    for k in word_list:\n",
    "        if len(k) <= len(letters):\n",
    "            d.add(k)\n",
    "    for l in characters:\n",
    "        for i in d:\n",
    "            if i not in d:\n",
    "                continue\n",
    "            elif l in i:\n",
    "                    d.remove(i)\n",
    "            else:\n",
    "                continue\n",
    "                \n",
    "    return d\n",
    " \n",
    "word_search()"
   ]
  },
  {
   "cell_type": "code",
   "execution_count": null,
   "metadata": {},
   "outputs": [],
   "source": []
  }
 ],
 "metadata": {
  "kernelspec": {
   "display_name": "Python 3",
   "language": "python",
   "name": "python3"
  },
  "language_info": {
   "codemirror_mode": {
    "name": "ipython",
    "version": 3
   },
   "file_extension": ".py",
   "mimetype": "text/x-python",
   "name": "python",
   "nbconvert_exporter": "python",
   "pygments_lexer": "ipython3",
   "version": "3.8.5"
  }
 },
 "nbformat": 4,
 "nbformat_minor": 4
}
