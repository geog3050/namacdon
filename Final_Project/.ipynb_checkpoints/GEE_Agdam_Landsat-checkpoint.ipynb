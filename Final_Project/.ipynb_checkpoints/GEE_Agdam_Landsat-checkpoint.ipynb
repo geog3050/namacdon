{
 "cells": [
  {
   "cell_type": "markdown",
   "metadata": {},
   "source": [
    "<h2> Notebook to compile annual time series for a region using harmonized Landsat imagery</h2>\n",
    "<h3><i> Gathers imagery from Landsat 5, 7, and 8 and returns a maximum-valued image for each year's growing season. </i></h3>"
   ]
  },
  {
   "cell_type": "code",
   "execution_count": null,
   "metadata": {},
   "outputs": [],
   "source": [
    "# Install and import required packages\n",
    "try:\n",
    "    import ee\n",
    "except Exception as e:\n",
    "    !pip install earthengine-api\n",
    "    import ee\n",
    "finally:\n",
    "    import datetime, os, re\n",
    "    import folium\n",
    "    import numpy as np\n",
    "    from PIL import Image\n",
    "    import matplotlib.pyplot as plt\n",
    "    %matplotlib inline"
   ]
  },
  {
   "cell_type": "code",
   "execution_count": null,
   "metadata": {},
   "outputs": [],
   "source": [
    "# Authenticate and intialize GEE\n",
    "ee.Authenticate()\n",
    "ee.Initialize()"
   ]
  },
  {
   "cell_type": "code",
   "execution_count": null,
   "metadata": {},
   "outputs": [],
   "source": [
    "# Define functions for Landsat Imagery and Harmonize between 5, 7, and 8's sensors\n",
    "\n",
    "# Account for differences in band numbering between sensors \n",
    "landsat_5_7_bands = ['B1', 'B2', 'B3', 'B4', 'B5', 'B7', 'pixel_qa']\n",
    "landsat_8_bands = ['B2', 'B3', 'B4', 'B5', 'B6', 'B7', 'pixel_qa']\n",
    "band_names = ['BLUE', 'GREEN', 'RED', 'NIR', 'SWIR1', 'SWIR2', 'pixel_qa']\n",
    "def rename_5_7_bands(image):\n",
    "    return image.select(landsat_5_7_bands,band_names)\n",
    "def rename_8_bands(image):\n",
    "    return image.select(landsat_8_bands,band_names)\n",
    "\n",
    "# Create function to harmonize bands based on coefficients \n",
    "def harmonize(image):\n",
    "    return image.select(band_names[:-1])\\\n",
    "        .multiply(ee.Image.constant([0.8474, 0.8483, 0.9047, 0.8462, 0.8937, 0.9071])) \\\n",
    "        .add(ee.Image.constant([0.0003, 0.0088, 0.0061, 0.0412, 0.0254, 0.0172]).multiply(10000))\\\n",
    "        .round()\\\n",
    "        .float()\\\n",
    "        .addBands(image.select('pixel_qa'))\n",
    "\n",
    "# Mask clouds and bad pixels\n",
    "def cloud_mask(image):\n",
    "    cloudShadowBitMask = 1 << 3\n",
    "    cloudsBitMask = 1 << 5\n",
    "    qa = image.select('pixel_qa')\n",
    "    mask = qa.bitwiseAnd(cloudShadowBitMask).eq(0)\\\n",
    "            and qa.bitwiseAnd(cloudsBitMask).eq(0)\n",
    "    return image.updateMask(mask)\n",
    "\n",
    "# Calculate Normalized Difference Vegetation Index\n",
    "def calc_ndvi(image):\n",
    "    ''' Computes NDVI and returns as image'''\n",
    "    ndvi = image.normalizedDifference(['NIR','RED']).rename('NDVI')\n",
    "    return image.addBands(ndvi)\n",
    "\n",
    "def calc_ndbi(image):\n",
    "    ''' Computes NDBI and returns as image'''\n",
    "    ndbi = image.normalizedDifference(['SWIR1','NIR']).rename('NDBI')\n",
    "    return image.addBands(ndbi)\n",
    "\n",
    "def prep_8(image):\n",
    "    orig = image\n",
    "    image = calc_ndbi(calc_ndvi(cloud_mask(rename_8_bands(image))))\n",
    "    return ee.Image(image.copyProperties(orig, orig.propertyNames())).float()\n",
    "  \n",
    "def prep_5_7(image):\n",
    "    orig = image\n",
    "    image = calc_ndbi(calc_ndvi(harmonize(cloud_mask(rename_5_7_bands(image)))))\n",
    "    return ee.Image(image.copyProperties(orig, orig.propertyNames()))"
   ]
  },
  {
   "cell_type": "code",
   "execution_count": null,
   "metadata": {},
   "outputs": [],
   "source": [
    "# Define geometry of AOI\n",
    "agdam = ee.Geometry.Rectangle([46.78,39.8,47.5,40.35])"
   ]
  },
  {
   "cell_type": "code",
   "execution_count": null,
   "metadata": {},
   "outputs": [],
   "source": [
    "# Set ates for filtering image collections\n",
    "start_date = '1984-01-01'\n",
    "end_date = '2020-12-31'\n",
    "\n",
    "# Create an annual ImageCollection based on start date\n",
    "# Dates formatted for iterative loops\n",
    "## start_date = datetime.datetime.strptime(start_str, '%Y-%m-%d')\n",
    "## end_date = datetime.datetime.strptime(end_str, '%Y-%m-%d')"
   ]
  },
  {
   "cell_type": "code",
   "execution_count": null,
   "metadata": {},
   "outputs": [],
   "source": [
    "# Access imagery from GEE repository\n",
    "\n",
    "# Gather imageCollections from each Landsat series.\n",
    "# Filter each by the AOI, cloud cover, and path/row.\n",
    "l5 = ee.ImageCollection(\"LANDSAT/LT05/C01/T1_SR\")\\\n",
    "              .filterBounds(agdam).map(prep_5_7)\\\n",
    "              .filterMetadata('CLOUD_COVER_LAND','less_than',30)\\\n",
    "              .filter(ee.Filter.eq('WRS_PATH', 168))\\\n",
    "              .filter(ee.Filter.eq('WRS_ROW', 32))\n",
    "l7 = ee.ImageCollection(\"LANDSAT/LE07/C01/T1_SR\")\\\n",
    "              .filterBounds(agdam).map(prep_5_7)\\\n",
    "              .filterMetadata('CLOUD_COVER_LAND','less_than',30)\\\n",
    "              .filter(ee.Filter.eq('WRS_PATH', 168))\\\n",
    "              .filter(ee.Filter.eq('WRS_ROW', 32))\\\n",
    "              .filterDate(\"2001-01-01\",\"2013-12-31\")\n",
    "l8 = ee.ImageCollection(\"LANDSAT/LC08/C01/T1_SR\")\\\n",
    "              .filterBounds(agdam).map(prep_8)\\\n",
    "              .filterMetadata('CLOUD_COVER_LAND','less_than',30)\\\n",
    "              .filter(ee.Filter.eq('WRS_PATH', 168))\\\n",
    "              .filter(ee.Filter.eq('WRS_ROW', 32))\n",
    "              \n",
    "# Merge into single collection\n",
    "landsat578 = l8.merge(l7).merge(l5).sort('system:time_start')"
   ]
  },
  {
   "cell_type": "code",
   "execution_count": null,
   "metadata": {},
   "outputs": [],
   "source": [
    "# Create annual maximum imagery for the growing season, filling gaps due to clouds\n",
    "# or bad pixels by using the three-year rolling maximum.\n",
    "\n",
    "annual_maximums = [] # Holding folder for annual composite max images\n",
    "\n",
    "# Iterate through each year in the study period\n",
    "for year in range(int(start_date[:4]),int(end_date[:4])+1): \n",
    "\n",
    "    # Gather maximum values of image in year, considering only dates\n",
    "    # in the growing season (April - October)\n",
    "    maximum_image = landsat578\\\n",
    "                      .filterDate('{}-01-01'.format(year),'{}-12-31'.format(year))\\\n",
    "                      .filter(ee.Filter.dayOfYear(90,305))\\\n",
    "                      .max()\\\n",
    "                      .reproject(landsat578.first().select(0).projection())\n",
    "    \n",
    "    # Retrieve three-year max image for the given year\n",
    "    three_year_filler = landsat578\\\n",
    "                      .filterDate('{}-01-01'.format(year-1),'{}-12-31'.format(year+2))\\\n",
    "                      .filter(ee.Filter.dayOfYear(90,305))\\\n",
    "                      .max()\\\n",
    "                      .reproject(landsat578.first().select(0).projection())\n",
    "                      \n",
    "    \n",
    "    # Add the image to the annual_maximums list, filling pixels in from the three-\n",
    "    # year composite where needed to fill gaps.\n",
    "    annual_maximums.append(ee.ImageCollection.fromImages([maximum_image,three_year_filler])\\\n",
    "                    .reduce(ee.Reducer.firstNonNull())\\\n",
    "                    .rename('BLUE', 'GREEN', 'RED', 'NIR', 'SWIR1', 'SWIR2', 'pixel_qa', 'NDVI', 'NDBI')\\\n",
    "                    .reproject(landsat578.first().select(0).projection())\\\n",
    "                    .set('system:index', str(year)))"
   ]
  },
  {
   "cell_type": "code",
   "execution_count": null,
   "metadata": {},
   "outputs": [],
   "source": [
    "# Map images\n",
    "\n",
    "map = folium.Map(location=[40,47],zoom_start=10)\n",
    "vis_params = {'palette':['red', 'yellow', 'green']}\n",
    "to_map = annual_maximums[25].select('NDVI').clip(agdam).getMapId(vis_params)\n",
    "folium.raster_layers.TileLayer(\n",
    "    tiles=to_map['tile_fetcher'].url_format,\n",
    "    attr='Google Earth Engine',\n",
    "    overlay=True,\n",
    "    control=True,\n",
    "    name='Sums',\n",
    "  ).add_to(map)\n",
    "map.add_child(folium.LayerControl())\n",
    "map"
   ]
  },
  {
   "cell_type": "code",
   "execution_count": null,
   "metadata": {},
   "outputs": [],
   "source": [
    "# Export annual max images\n",
    "for i in range(0,len(annual_maximums)): \n",
    "    image = annual_maximums[i].select('BLUE', 'GREEN', 'RED', 'NIR', 'SWIR1', 'SWIR2', 'NDVI', 'NDBI')\n",
    "    task = ee.batch.Export.image.toDrive(image=image,\n",
    "          description='agdam_max_'+str(image.get('system:index').getInfo()),\n",
    "          folder= 'Agdam_Landsat_Max_Filled2',\n",
    "          fileNamePrefix='agdam_max_'+str(image.get('system:index').getInfo()),\n",
    "          region=agdam,\n",
    "          scale=30,\n",
    "          crs=landsat578.first().select(0).projection(),\n",
    "          skipEmptyTiles=True)\n",
    "    task.start()"
   ]
  },
  {
   "cell_type": "markdown",
   "metadata": {},
   "source": [
    "## Testing and evaluation"
   ]
  },
  {
   "cell_type": "code",
   "execution_count": null,
   "metadata": {},
   "outputs": [],
   "source": [
    "l8.filter(ee.Filter.dayOfYear(190,250)).first().reduceRegion(reducer = ee.Reducer.minMax(),\n",
    "                                geometry = agdam,\n",
    "                                maxPixels = 1e9).getInfo()"
   ]
  },
  {
   "cell_type": "code",
   "execution_count": null,
   "metadata": {},
   "outputs": [],
   "source": [
    "%%time\n",
    "# NDVI Images\n",
    "rect = ee.Geometry.Polygon(\n",
    "        [[[47.0, 40.15],\n",
    "          [47.0, 40.0],\n",
    "          [47.15, 40.0],\n",
    "          [47.15, 40.15]]])\n",
    "\n",
    "# save_dir = r\"G:\\My Drive\\GEE\\GEE13MAR21_testing\"\n",
    "for i in range(25,26): # len(annual_maximums)\n",
    "    in_image = ee.Image(annual_maximums[i])\n",
    "    ee_array = in_image.sampleRectangle(region=rect,defaultValue=0)\n",
    "    np_array_ndvi = np.array(ee_array.get('NIR').getInfo())\n",
    "    plt.figure(figsize=(20,12))\n",
    "    plt.imshow(np_array_ndvi)\n",
    "#     img_year = in_image.get('system:index').getInfo()\n",
    "#     out_image = Image.fromarray(np_array_ndvi)\n",
    "#     out_image.save(os.path.join(save_dir,f\"ndvi_image_{img_year}.tif\"))"
   ]
  },
  {
   "cell_type": "code",
   "execution_count": null,
   "metadata": {},
   "outputs": [],
   "source": [
    "import glob\n",
    "tif_list = glob.glob(r\"G:\\My Drive\\GEE\\GEE13MAR21_testing\\*.tif\")\n",
    "tif_list.sort()\n",
    "ndvi_array_list = []\n",
    "ndvi_date_list = []\n",
    "for image in tif_list:\n",
    "    img = Image.open(image)\n",
    "    np_img = np.array(img)\n",
    "    date = datetime.datetime.strptime(image.split(\"\\\\\")[-1][11:21],'%Y-%m-%d')\n",
    "    ndvi_date_list.append(date.timestamp())\n",
    "    ndvi_array_list.append(np_img)\n",
    "fig, axes = plt.subplots(2,4,subplot_kw={'xticks':(),'yticks':()},figsize=(20,12))\n",
    "for image, ax in zip(list2,axes.ravel()):\n",
    "    ax.imshow(image)"
   ]
  },
  {
   "cell_type": "code",
   "execution_count": null,
   "metadata": {},
   "outputs": [],
   "source": [
    "def normalize(image):\n",
    "    bands = ['BLUE', 'GREEN', 'RED', 'NIR', 'SWIR1', 'SWIR2']\n",
    "    std = image.reduceRegion(reducer = ee.Reducer.stdDev(),\n",
    "                                geometry = agdam,\n",
    "                                maxPixels = 1e9).getInfo()\n",
    "    mean = image.reduceRegion(reducer = ee.Reducer.mean(),\n",
    "                                geometry = agdam,\n",
    "                                maxPixels = 1e9).getInfo()\n",
    "    holder = []\n",
    "    for band in bands:\n",
    "        img = image.select(band)\n",
    "        img_std = std[f\"{band}\"]\n",
    "        img_mean = mean[f\"{band}\"]\n",
    "        norm_image = img.subtract(img_mean).divide(img_std).multiply(100)\n",
    "        holder.append(norm_image.rename(f\"{band}\").toShort())\n",
    "    return image.select('NDVI','NDBI').addBands(holder)"
   ]
  }
 ],
 "metadata": {
  "kernelspec": {
   "display_name": "Python 3",
   "language": "python",
   "name": "python3"
  },
  "language_info": {
   "codemirror_mode": {
    "name": "ipython",
    "version": 3
   },
   "file_extension": ".py",
   "mimetype": "text/x-python",
   "name": "python",
   "nbconvert_exporter": "python",
   "pygments_lexer": "ipython3",
   "version": "3.8.5"
  }
 },
 "nbformat": 4,
 "nbformat_minor": 4
}
