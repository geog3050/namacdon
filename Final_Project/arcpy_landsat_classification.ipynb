{
 "cells": [
  {
   "cell_type": "markdown",
   "metadata": {},
   "source": [
    "# Notebook for processing Landsat imagery for deep learning classification"
   ]
  },
  {
   "cell_type": "markdown",
   "metadata": {},
   "source": [
    "### Import packages"
   ]
  },
  {
   "cell_type": "code",
   "execution_count": 4,
   "metadata": {},
   "outputs": [],
   "source": [
    "import sys, os\n",
    "import re\n",
    "import arcpy\n",
    "\n",
    "arcpy.env.parallelProcessingFactor = \"100%\"\n",
    "arcpy.env.addOutputsToMap = False\n",
    "arcpy.env.overwriteOutput = True\n",
    "arcpy.env.processorType = \"GPU\""
   ]
  },
  {
   "cell_type": "markdown",
   "metadata": {},
   "source": [
    "### Set parameters and options"
   ]
  },
  {
   "cell_type": "code",
   "execution_count": 5,
   "metadata": {},
   "outputs": [],
   "source": [
    "# Location of input imagery\n",
    "in_folder = r\"G:\\My Drive\\Agdam_Landsat_Max_Filled2\"\n",
    "if arcpy.Exists(in_folder) != True: print(\"Bad Folder\")\n",
    "    \n",
    "# Holding/scratch folder (will be created by ArcGIS when needed)\n",
    "holding = r\"C:\\Users\\Neal\\Documents\\ArcGIS\\Projects\\NKR4\\delete\"\n",
    "\n",
    "# Change value to True if clipping needed, else False\n",
    "clip_selector = False\n",
    "clipping_extent = \"649947.8909 4410578.6392 714505.2748 4475136.0231\"\n",
    "\n",
    "# Set folders for models\n",
    "training_raster = \"ag_cmp_2008.png\"\n",
    "train_folder = r\"C:\\Users\\Neal\\Documents\\ArcGIS\\Projects\\NKR4\\DL Models\\Train Data\"\n",
    "model_folder = r\"C:\\Users\\Neal\\Documents\\ArcGIS\\Projects\\NKR4\\DL Models\\Trained Model\"\n",
    "classified_polygon = r\"C:\\Users\\Neal\\Documents\\ArcGIS\\Projects\\NKR4\\NKR4.gdb\\c1984_reclass_poly\"\n",
    "classified_mask = r\"C:\\Users\\Neal\\Documents\\ArcGIS\\Projects\\NKR4\\NKR4.gdb\\mask2_Dissolve_Smooth\""
   ]
  },
  {
   "cell_type": "markdown",
   "metadata": {},
   "source": [
    "### Create folder names and directories"
   ]
  },
  {
   "cell_type": "code",
   "execution_count": null,
   "metadata": {},
   "outputs": [],
   "source": [
    "clipped_renamed_folder =  os.path.join(holding,\"clipped\")\n",
    "try: os.mkdir(clipped_renamed_folder)\n",
    "except FileExistsError: print(f\"{clipped_renamed_folder} already exists.\")\n",
    "    \n",
    "layers_folder = os.path.join(holding,'Raster Layers')\n",
    "try: os.mkdir(layers_folder)\n",
    "except FileExistsError: print(f\"{layers_folder} already exists.\")\n",
    "\n",
    "output_composite_folder = os.path.join(in_folder,\"output_composite\")\n",
    "try: os.mkdir(output_composite_folder)\n",
    "except FileExistsError: print(f\"{output_composite_folder} already exists.\")\n",
    "\n",
    "output_ms_folder = os.path.join(in_folder,\"output_ms\")\n",
    "try: os.mkdir(output_ms_folder)\n",
    "except FileExistsError: print(f\"{output_ms_folder} already exists\")\n",
    "\n",
    "# output_cir_folder = os.path.join(in_folder,\"output_cir\")\n",
    "# try: os.mkdir(output_cir_folder)\n",
    "# except FileExistsError: print(f\"{output_cir_folder} already exists.\")\n",
    "\n",
    "# output_ndvi_folder = os.path.join(in_folder,\"output_ndvi\")\n",
    "# try: os.mkdir(output_ndvi_folder)\n",
    "# except FileExistsError: print(f\"{output_ndvi_folder} already exists.\")\n",
    "\n",
    "# output_rns_folder = os.path.join(in_folder,\"output_rns\")\n",
    "# try: os.mkdir(output_rns_folder)\n",
    "# except FileExistsError: print(f\"{output_rns_folder} already exists.\")\n",
    "\n",
    "output_classified_folder = os.path.join(in_folder,\"output_class\")\n",
    "try: os.mkdir(output_classified_folder)\n",
    "except FileExistsError: print(f\"{output_classified_folder} already exists\")"
   ]
  },
  {
   "cell_type": "markdown",
   "metadata": {},
   "source": [
    "## Prepare imagery for classification"
   ]
  },
  {
   "cell_type": "markdown",
   "metadata": {},
   "source": [
    "### Gather rasters and either: Clip to set extent (and rename),or just Rename if clipping is not necessary, then add to GDB"
   ]
  },
  {
   "cell_type": "code",
   "execution_count": null,
   "metadata": {},
   "outputs": [],
   "source": [
    "arcpy.env.workspace = in_folder\n",
    "rasters = arcpy.ListRasters()\n",
    "rasters.sort()\n",
    "\n",
    "for raster in rasters:\n",
    "    desc = arcpy.Describe(raster)\n",
    "    year_search = re.search(r'\\d\\d\\d\\d',desc.baseName)\n",
    "    year = year_search.group()\n",
    "    if year == None:\n",
    "        print('No year value found in name.')\n",
    "        sys.exit(1)\n",
    "    \n",
    "    try:\n",
    "        if clip_selector == True:\n",
    "            arcpy.management.Clip(raster, clipping_extent, \n",
    "                    os.path.join(clipped_renamed_folder,f\"ag_c_{year}\"))\n",
    "            print(f\"Clipped {desc.baseName}\")\n",
    "            intermediate_folder = clipped_folder\n",
    "        else:\n",
    "            if len(desc.baseName) > 9:\n",
    "                arcpy.management.Rename(raster, f\"ag_c_{year}\")\n",
    "                print(f\"Renamed {desc.baseName}\")\n",
    "            intermediate_folder = in_folder\n",
    "            \n",
    "    except Exception as e:\n",
    "        print(e)\n",
    "\n",
    "# Add rasters to geodatabase/folder as Raster Datasets\n",
    "arcpy.env.workspace = intermediate_folder\n",
    "renamed_clipped_rasters = arcpy.ListRasters()\n",
    "renamed_clipped_rasters.sort()\n",
    "                              \n",
    "for raster in renamed_clipped_rasters:\n",
    "    desc = arcpy.Describe(raster)\n",
    "    if len(desc.baseName) < 10:\n",
    "        try:\n",
    "            arcpy.RasterToGeodatabase_conversion(raster,layers_folder)\n",
    "            print(f\"Raster {desc.baseName} to Feature Layer\")\n",
    "        except Exception as e:\n",
    "            print(e)\n",
    "    else:\n",
    "        print('Need to shorten file names before adding to GDB')"
   ]
  },
  {
   "cell_type": "markdown",
   "metadata": {},
   "source": [
    "### Generate desired imagery as PNGs, and move to output folders   "
   ]
  },
  {
   "cell_type": "code",
   "execution_count": null,
   "metadata": {},
   "outputs": [],
   "source": [
    "arcpy.env.workspace = layers_folder\n",
    "feature_layers = arcpy.ListRasters()\n",
    "\n",
    "for layer in feature_layers:\n",
    "    desc = arcpy.Describe(layer)\n",
    "    if len(desc.baseName) < 10:\n",
    "        print(\"Working on:\",desc.baseName)\n",
    "        \n",
    "        # Uncomment lines to change type of image generated for classification\n",
    "        # Currently set to just the NIR/SWIR/PC1 image (CMP) and mean-shift (MS)\n",
    "        try:     \n",
    "            img_name = f\"ag_cmp_{desc.baseName[-4:]}.png\"\n",
    "            nir_raster = arcpy.management.MakeRasterLayer(layer, \"nir_temp\", '', \"\", \"4\")\n",
    "            swir_raster = arcpy.management.MakeRasterLayer(layer, \"swir_temp\", '', \"\", \"5\")\n",
    "            pc1_raster = arcpy.sa.PrincipalComponents(layer, 1, None) \n",
    "            arcpy.management.CompositeBands([\"nir_temp\",\"swir_temp\",pc1_raster],'temp_img')\n",
    "            arcpy.management.CopyRaster('temp_img', os.path.join(output_composite_folder, img_name),\n",
    "                    '',None, \"3.4e+38\", \"NONE\", \"NONE\", '16_BIT_UNSIGNED', \"ScalePixelValue\",\n",
    "                    \"NONE\", \"PNG\", \"NONE\", \"CURRENT_SLICE\", \"NO_TRANSPOSE\")\n",
    "\n",
    "            ms_name = f\"ag_ms_{desc.baseName[-4:]}.png\"\n",
    "            mean_shift = arcpy.sa.SegmentMeanShift(layer, \"18\", \"18\", \"25\", \"4 3 2\")\n",
    "            print(f\"Segment Mean Shift on {ms_name} completed.\")\n",
    "            arcpy.management.CopyRaster(mean_shift, os.path.join(output_ms_folder, ms_name),\n",
    "            '',None, \"3.4e+38\", \"NONE\", \"NONE\", '16_BIT_UNSIGNED', \"ScalePixelValue\",\n",
    "            \"NONE\", \"PNG\", \"NONE\", \"CURRENT_SLICE\", \"NO_TRANSPOSE\")\n",
    "            print(f\"Output for {ms_name} complete\")\n",
    "            \n",
    "#             rns_name = f\"ag_rns_{desc.baseName[-4:]}.png\"\n",
    "#             arcpy.management.MakeRasterLayer(layer, rns_name, '', \"\", \"4;3;5\")\n",
    "#             arcpy.management.CopyRaster(rns_name, os.path.join(output_rns_folder, rns_name),\n",
    "#                 '',None, \"3.4e+38\", \"NONE\", \"NONE\", '16_BIT_UNSIGNED', \"NONE\",\n",
    "#                 \"NONE\", \"PNG\", \"NONE\", \"CURRENT_SLICE\", \"NO_TRANSPOSE\")\n",
    "#             print(f\"Red_NIR_SWIR1 for {rns_name} complete.\")\n",
    "          \n",
    "#             cir_name = f\"ag_cir_{desc.baseName[-4:]}.png\"\n",
    "#             arcpy.management.MakeRasterLayer(layer, cir_name, '', \"\", \"4;3;2\")\n",
    "#             arcpy.management.CopyRaster(cir_name, os.path.join(output_cir_folder, cir_name),\n",
    "#                 '',None, \"3.4e+38\", \"NONE\", \"NONE\", '16_BIT_UNSIGNED', \"ScalePixelValue\",\n",
    "#                 \"NONE\", \"PNG\", \"NONE\", \"CURRENT_SLICE\", \"NO_TRANSPOSE\")\n",
    "#             print(f\"Color Infrared for {cir_name} complete.\")\n",
    "            \n",
    "#             ndvi_name = f\"ag_ndvi_{desc.baseName[-4:]}.png\"\n",
    "#             arcpy.management.MakeRasterLayer(layer, ndvi_name, '', \"\", \"7\")\n",
    "#             arcpy.management.CopyRaster(ndvi_name, os.path.join(output_ndvi_folder, ndvi_name),\n",
    "#                 '',None, \"3.4e+38\", \"NONE\", \"NONE\", '16_BIT_UNSIGNED', \"ScalePixelValue\",\n",
    "#                 \"NONE\", \"PNG\", \"NONE\", \"CURRENT_SLICE\", \"NO_TRANSPOSE\")\n",
    "#             print(f\"NDVI for {ndvi_name} complete.\")\n",
    "\n",
    "        except Exception as e:\n",
    "            print(e)"
   ]
  },
  {
   "cell_type": "markdown",
   "metadata": {},
   "source": [
    "## Prepare imagery for deep learning"
   ]
  },
  {
   "cell_type": "markdown",
   "metadata": {},
   "source": [
    "### Set folders for imagery"
   ]
  },
  {
   "cell_type": "code",
   "execution_count": 7,
   "metadata": {},
   "outputs": [],
   "source": [
    "arcpy.env.workspace = output_ms_folder\n",
    "ms_rasters = arcpy.ListRasters()\n",
    "\n",
    "arcpy.env.workspace = output_composite_folder\n",
    "rns_rasters = arcpy.ListRasters()\n",
    "rns_rasters.sort()\n",
    "\n",
    "arcpy.env.workspace = output_composite_folder\n",
    "cmp_rasters = arcpy.ListRasters()\n",
    "cmp_rasters.sort()"
   ]
  },
  {
   "cell_type": "markdown",
   "metadata": {},
   "source": [
    "### Generate an unsupervised classification image.\n",
    "#### Assists in creating a classified polygon for supervised classification on the dataset"
   ]
  },
  {
   "cell_type": "code",
   "execution_count": null,
   "metadata": {},
   "outputs": [],
   "source": [
    "arcpy.env.workspace = output_composite_folder\n",
    "\n",
    "mean_shift_raster = ms_rasters[23]\n",
    "unsupervised_image = arcpy.sa.IsoClusterUnsupervisedClassification(training_raster,25,50,50)\n",
    "unsupervised_image.save(os.path.join(output_composite_folder,\"unsup_img\"))\n",
    "\n",
    "# Edit the 'unsup_img' with expert-knowledge to correct labels before continuing"
   ]
  },
  {
   "cell_type": "markdown",
   "metadata": {},
   "source": [
    "### Create image chips from the unsupervised classification"
   ]
  },
  {
   "cell_type": "code",
   "execution_count": 9,
   "metadata": {},
   "outputs": [],
   "source": [
    "arcpy.env.workspace = output_composite_folder\n",
    "arcpy.ia.ExportTrainingDataForDeepLearning(os.path.join(output_composite_folder,training_raster), train_folder, classified_polygon, \n",
    "                                           \"PNG\", 128, 128, 64, 64, \"ONLY_TILES_WITH_FEATURES\", \n",
    "                                           \"Classified_Tiles\", 0, \"gridcode\", 0, classified_mask, 0, \n",
    "                                           \"MAP_SPACE\", \"PROCESS_AS_MOSAICKED_IMAGE\", \"NO_BLACKEN\", \"FIXED_SIZE\")"
   ]
  },
  {
   "cell_type": "markdown",
   "metadata": {},
   "source": [
    "### Train deep learning model"
   ]
  },
  {
   "cell_type": "code",
   "execution_count": 25,
   "metadata": {},
   "outputs": [
    {
     "name": "stdout",
     "output_type": "stream",
     "text": [
      "epoch     train_loss  valid_loss  accuracy  time    \n",
      "0         0.572491    0.500950    0.744702  00:15     \n",
      "1         0.446532    0.374969    0.835007  00:14     \n",
      "2         0.393922    0.312092    0.867312  00:14     \n",
      "3         0.384647    0.288390    0.873012  00:14     \n",
      "4         0.371646    0.328187    0.848173  00:14     \n",
      "5         0.342783    0.284472    0.873135  00:14     \n",
      "6         0.330219    0.276041    0.879803  00:14     \n",
      "7         0.329032    0.278885    0.880179  00:14     \n",
      "8         0.326725    0.285471    0.872890  00:14     \n",
      "9         0.320722    0.271949    0.882372  00:14     \n"
     ]
    },
    {
     "data": {
      "text/plain": [
       "<geoprocessing server result object object at 0x000001BAC6FDD810>"
      ]
     },
     "execution_count": 25,
     "metadata": {},
     "output_type": "execute_result"
    }
   ],
   "source": [
    "arcpy.ia.TrainDeepLearningModel(train_folder, model_folder, 10, \"UNET\", 16,\n",
    "                                    \"class_balancing False;mixup False;focal_loss False;ignore_classes #;chip_size 128\",\n",
    "                                    None, \"RESNET18\", None, 10, \"STOP_TRAINING\", \"FREEZE_MODEL\")"
   ]
  },
  {
   "cell_type": "markdown",
   "metadata": {},
   "source": [
    "### Classify each raster in the collection and post-process"
   ]
  },
  {
   "cell_type": "code",
   "execution_count": null,
   "metadata": {},
   "outputs": [],
   "source": [
    "for raster in rns_rasters:\n",
    "    arcpy.env.workspace = output_composite_folder\n",
    "    desc = arcpy.Describe(raster)\n",
    "    out_classified_raster = arcpy.ia.ClassifyPixelsUsingDeepLearning(os.path.join(output_composite_folder,raster), \n",
    "                                             os.path.join(model_folder,\"Trained Model.dlpk\"), \n",
    "                                             \"padding 16;batch_size 8;predict_background False\", \n",
    "                                             \"PROCESS_AS_MOSAICKED_IMAGE\", None)\n",
    "\n",
    "    with arcpy.EnvManager(outputZFlag=\"Disabled\", outputMFlag=\"Disabled\", workspace=holding):\n",
    "        masked_raster = arcpy.sa.ExtractByMask(out_classified_raster, classified_mask)\n",
    "        con_raster = arcpy.sa.Con(masked_raster, 1, None, \"Class = '1'\")\n",
    "        arcpy.conversion.RasterToPolygon(con_raster, os.path.join(holding,f\"poly{desc.baseName[-4:]}\"), \"NO_SIMPLIFY\", \"Value\", \"SINGLE_OUTER_PART\", None)\n",
    "        arcpy.analysis.Buffer(os.path.join(holding,f\"poly{desc.baseName[-4:]}.shp\"),f\"buffer{desc.baseName[-4:]}\",\"15 Meters\", \"FULL\", \"ROUND\", \"NONE\", None, \"GEODESIC\")\n",
    "        arcpy.cartography.SmoothPolygon(f\"buffer{desc.baseName[-4:]}.shp\", os.path.join(output_classified_folder,f\"cls_{desc.baseName[-4:]}\"), \n",
    "                    \"PAEK\", \"150 Meters\", \"FIXED_ENDPOINT\", \"NO_CHECK\", None)"
   ]
  }
 ],
 "metadata": {
  "kernelspec": {
   "display_name": "Python 3",
   "language": "python",
   "name": "python3"
  },
  "language_info": {
   "codemirror_mode": {
    "name": "ipython",
    "version": 3
   },
   "file_extension": ".py",
   "mimetype": "text/x-python",
   "name": "python",
   "nbconvert_exporter": "python",
   "pygments_lexer": "ipython3",
   "version": "3.8.5"
  }
 },
 "nbformat": 4,
 "nbformat_minor": 4
}
