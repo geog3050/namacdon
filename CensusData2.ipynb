{
 "cells": [
  {
   "cell_type": "code",
   "execution_count": null,
   "metadata": {},
   "outputs": [],
   "source": [
    "%%capture\n",
    "!pip install CensusData\n",
    "import censusdata\n",
    "import pandas as pd\n",
    "import csv"
   ]
  },
  {
   "cell_type": "code",
   "execution_count": null,
   "metadata": {},
   "outputs": [],
   "source": [
    "b15_codes = {}\n",
    "with open(r\"C:\\Users\\Neal\\OneDrive - University of Iowa\\Spring 2021\\GEOG 5540\\Assignment 5\\B15003_codes.csv\",newline='') as csvfile:\n",
    "    csv_read = csv.reader(csvfile)\n",
    "    for row in csv_read:\n",
    "        b15_codes[row[0]] = row[1]\n",
    "b15_codes_list = [value[:6]+\"_\"+value[-3:]+\"E\" for value in b15_codes.keys()]"
   ]
  },
  {
   "cell_type": "code",
   "execution_count": 55,
   "metadata": {},
   "outputs": [],
   "source": [
    "total = censusdata.download('acs5',2019,censusdata.censusgeo([('state','12'),\n",
    "                                                        ('county','*')]),\n",
    "                                                    [b15_codes_list[0]])\n",
    "diploma = censusdata.download('acs5',2019,censusdata.censusgeo([('state','12'),\n",
    "                                                        ('county','*')]),\n",
    "                                                    b15_codes_list[-5:])\n",
    "d= diploma.sum(axis=1).tolist()\n",
    "t = total[b15_codes_list[0]].tolist()\n",
    "average_diplomas = []\n",
    "for item in zip(d,t):\n",
    "    average_diplomas.append(item[0]/item[1])"
   ]
  },
  {
   "cell_type": "code",
   "execution_count": 78,
   "metadata": {},
   "outputs": [],
   "source": [
    "i = censusdata.download('acs5',2019,censusdata.censusgeo([('state','12'),\n",
    "                                                        ('county','*')]),\n",
    "                                                    [\"B19113_001E\"])\n",
    "income = i[\"B19113_001E\"].tolist()"
   ]
  },
  {
   "cell_type": "code",
   "execution_count": null,
   "metadata": {},
   "outputs": [],
   "source": [
    "g = censusdata.geographies(censusdata.censusgeo([('state', '12'), ('county', '*')]), 'acs5', 2019)\n",
    "county_codes = []\n",
    "for item in g.items():\n",
    "    for tup in item:\n",
    "        if str(tup).startswith(\"Summary level\"):\n",
    "            geocode = \"\"\n",
    "            county = str(tup)[37:40]\n",
    "            geocode = \"12\"+county\n",
    "            county_codes.append(geocode)\n",
    "print(county_codes)"
   ]
  },
  {
   "cell_type": "code",
   "execution_count": 82,
   "metadata": {},
   "outputs": [],
   "source": [
    "data = pd.DataFrame(list(zip(average_diplomas,income,county_codes)),columns=['Diplomas','Income','County'])\n",
    "data = data.set_index('County')"
   ]
  },
  {
   "cell_type": "code",
   "execution_count": 83,
   "metadata": {},
   "outputs": [],
   "source": [
    "data.to_csv(r\"C:\\Users\\Neal\\OneDrive - University of Iowa\\Spring 2021\\GEOG 5540\\Assignment 5\\florida_data.csv\")"
   ]
  }
 ],
 "metadata": {
  "kernelspec": {
   "display_name": "Python 3",
   "language": "python",
   "name": "python3"
  },
  "language_info": {
   "codemirror_mode": {
    "name": "ipython",
    "version": 3
   },
   "file_extension": ".py",
   "mimetype": "text/x-python",
   "name": "python",
   "nbconvert_exporter": "python",
   "pygments_lexer": "ipython3",
   "version": "3.8.5"
  }
 },
 "nbformat": 4,
 "nbformat_minor": 4
}
