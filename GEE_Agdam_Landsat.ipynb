{
 "cells": [
  {
   "cell_type": "markdown",
   "metadata": {},
   "source": [
    "Notebook to compile annual time series for a region using harmonized Landsat imagery\n",
    "Gathers imagery from Landsat 5, 7, and 8 and returns a maximum-valued image for each year's\n",
    "growing season."
   ]
  },
  {
   "cell_type": "code",
   "execution_count": 4,
   "metadata": {},
   "outputs": [],
   "source": [
    "try:\n",
    "    import ee\n",
    "except Exception as e:\n",
    "    !pip install earthengine-api\n",
    "    import ee\n",
    "finally:\n",
    "    import datetime, os, re\n",
    "    import folium\n",
    "    import numpy as np\n",
    "    from PIL import Image\n",
    "    import matplotlib.pyplot as plt\n",
    "    %matplotlib inline"
   ]
  },
  {
   "cell_type": "code",
   "execution_count": 5,
   "metadata": {},
   "outputs": [
    {
     "data": {
      "text/html": [
       "<p>To authorize access needed by Earth Engine, open the following\n",
       "        URL in a web browser and follow the instructions:</p>\n",
       "        <p><a href=https://accounts.google.com/o/oauth2/auth?client_id=517222506229-vsmmajv00ul0bs7p89v5m89qs8eb9359.apps.googleusercontent.com&scope=https%3A%2F%2Fwww.googleapis.com%2Fauth%2Fearthengine+https%3A%2F%2Fwww.googleapis.com%2Fauth%2Fdevstorage.full_control&redirect_uri=urn%3Aietf%3Awg%3Aoauth%3A2.0%3Aoob&response_type=code&code_challenge=hg5IezhpiZUTP7kzhZBxFNpcr9uxAvPEJ5uSAjSoZjs&code_challenge_method=S256>https://accounts.google.com/o/oauth2/auth?client_id=517222506229-vsmmajv00ul0bs7p89v5m89qs8eb9359.apps.googleusercontent.com&scope=https%3A%2F%2Fwww.googleapis.com%2Fauth%2Fearthengine+https%3A%2F%2Fwww.googleapis.com%2Fauth%2Fdevstorage.full_control&redirect_uri=urn%3Aietf%3Awg%3Aoauth%3A2.0%3Aoob&response_type=code&code_challenge=hg5IezhpiZUTP7kzhZBxFNpcr9uxAvPEJ5uSAjSoZjs&code_challenge_method=S256</a></p>\n",
       "        <p>The authorization workflow will generate a code, which you\n",
       "        should paste in the box below</p>\n",
       "        "
      ],
      "text/plain": [
       "<IPython.core.display.HTML object>"
      ]
     },
     "metadata": {},
     "output_type": "display_data"
    },
    {
     "name": "stdin",
     "output_type": "stream",
     "text": [
      "Enter verification code:  4/1AY0e-g79t95gO16G6LyfVweE80uhPRlhHa3NL8HHAFGSAyAuf8yvan98Et8\n"
     ]
    },
    {
     "name": "stdout",
     "output_type": "stream",
     "text": [
      "\n",
      "Successfully saved authorization token.\n"
     ]
    }
   ],
   "source": [
    "ee.Authenticate()\n",
    "ee.Initialize()"
   ]
  },
  {
   "cell_type": "code",
   "execution_count": 169,
   "metadata": {},
   "outputs": [],
   "source": [
    "# Define functions for Landsat Imagery and Harmonize between 5, 7, and 8's sensors\n",
    "\n",
    "## Account for differences in band numbering between sensors \n",
    "landsat_5_7_bands = ['B1', 'B2', 'B3', 'B4', 'B5', 'B7', 'pixel_qa']\n",
    "landsat_8_bands = ['B2', 'B3', 'B4', 'B5', 'B6', 'B7', 'pixel_qa']\n",
    "band_names = ['BLUE', 'GREEN', 'RED', 'NIR', 'SWIR1', 'SWIR2', 'pixel_qa']\n",
    "def rename_5_7_bands(image):\n",
    "    return image.select(landsat_5_7_bands,band_names)\n",
    "def rename_8_bands(image):\n",
    "    return image.select(landsat_8_bands,band_names)\n",
    "\n",
    "## Create function to harmonize bands based on coefficients \n",
    "def harmonize(image):\n",
    "    return image.select(band_names[:-1])\\\n",
    "        .multiply(ee.Image.constant([0.8474, 0.8483, 0.9047, 0.8462, 0.8937, 0.9071])) \\\n",
    "        .add(ee.Image.constant([0.0003, 0.0088, 0.0061, 0.0412, 0.0254, 0.0172]).multiply(10000))\\\n",
    "        .round()\\\n",
    "        .toShort()\\\n",
    "        .addBands(image.select('pixel_qa'))\n",
    "\n",
    "## Mask clouds and bad pixels\n",
    "def cloud_mask(image):\n",
    "    cloudShadowBitMask = 1 << 3\n",
    "    cloudsBitMask = 1 << 5\n",
    "    qa = image.select('pixel_qa')\n",
    "    mask = qa.bitwiseAnd(cloudShadowBitMask).eq(0)\\\n",
    "            and qa.bitwiseAnd(cloudsBitMask).eq(0)\n",
    "    return image.updateMask(mask)\n",
    "\n",
    "## Calculate Normalized Difference Vegetation Index\n",
    "def calc_ndvi(image):\n",
    "    ''' Computes NDVI and returns as image'''\n",
    "    ndvi = image.normalizedDifference(['NIR','RED']).rename('NDVI')\n",
    "    return image.addBands(ndvi)\n",
    "\n",
    "def calc_ndbi(image):\n",
    "    ''' Computes NDBI and returns as image'''\n",
    "    ndbi = image.normalizedDifference(['SWIR1','NIR']).rename('NDBI')\n",
    "    return image.addBands(ndbi)\n",
    "\n",
    "def prep_8(image):\n",
    "    orig = image\n",
    "    image = calc_ndbi(calc_ndvi(cloud_mask(rename_8_bands(image))))\n",
    "    return ee.Image(image.copyProperties(orig, orig.propertyNames()))\n",
    "  \n",
    "def prep_5_7(image):\n",
    "    orig = image\n",
    "    image = calc_ndbi(calc_ndvi(harmonize(cloud_mask(rename_5_7_bands(image)))))\n",
    "    return ee.Image(image.copyProperties(orig, orig.propertyNames()))"
   ]
  },
  {
   "cell_type": "code",
   "execution_count": 170,
   "metadata": {},
   "outputs": [],
   "source": [
    "# Define geometry\n",
    "agdam = ee.Geometry.Rectangle([46.78,39.8,47.5,40.35])"
   ]
  },
  {
   "cell_type": "code",
   "execution_count": 171,
   "metadata": {},
   "outputs": [],
   "source": [
    "# Dates for filtering image collections\n",
    "start_date = '1984-01-01'\n",
    "end_date = '2020-12-31'\n",
    "\n",
    "# Create an annual ImageCollection based on start date\n",
    "## Dates formatted for iterative loops\n",
    "# start_date = datetime.datetime.strptime(start_str, '%Y-%m-%d')\n",
    "# end_date = datetime.datetime.strptime(end_str, '%Y-%m-%d')"
   ]
  },
  {
   "cell_type": "code",
   "execution_count": 172,
   "metadata": {},
   "outputs": [],
   "source": [
    "# Access imagery from GEE repository\n",
    "\n",
    "## Gather imageCollections from each Landsat series.\n",
    "## Filter each by the AOI, cloud cover, and path/row.\n",
    "l5 = ee.ImageCollection(\"LANDSAT/LT05/C01/T1_SR\")\\\n",
    "              .filterBounds(agdam).map(prep_5_7)\\\n",
    "              .filterMetadata('CLOUD_COVER_LAND','less_than',30)\\\n",
    "              .filter(ee.Filter.eq('WRS_PATH', 168))\\\n",
    "              .filter(ee.Filter.eq('WRS_ROW', 32))\n",
    "l7 = ee.ImageCollection(\"LANDSAT/LE07/C01/T1_SR\")\\\n",
    "              .filterBounds(agdam).map(prep_5_7)\\\n",
    "              .filterMetadata('CLOUD_COVER_LAND','less_than',30)\\\n",
    "              .filter(ee.Filter.eq('WRS_PATH', 168))\\\n",
    "              .filter(ee.Filter.eq('WRS_ROW', 32))\\\n",
    "              .filterDate(\"2001-01-01\",\"2013-12-31\")\n",
    "l8 = ee.ImageCollection(\"LANDSAT/LC08/C01/T1_SR\")\\\n",
    "              .filterBounds(agdam).map(prep_8)\\\n",
    "              .filterMetadata('CLOUD_COVER_LAND','less_than',30)\\\n",
    "              .filter(ee.Filter.eq('WRS_PATH', 168))\\\n",
    "              .filter(ee.Filter.eq('WRS_ROW', 32))\n",
    "              \n",
    "## Merge into single collection\n",
    "landsat578 = l8.merge(l7).merge(l5).sort('system:time_start')"
   ]
  },
  {
   "cell_type": "code",
   "execution_count": 173,
   "metadata": {},
   "outputs": [],
   "source": [
    "# Create annual maximum imagery for the growing season, filling gaps due to clouds\n",
    "# or bad pixels by using the three-year rolling maximum.\n",
    "\n",
    "annual_maximums = [] # Holding folder for annual composite max images\n",
    "\n",
    "# Iterate through each year in the study period\n",
    "for year in range(int(start_date[:4]),int(end_date[:4])+1): \n",
    "\n",
    "    # Gather maximum values of image in year, considering only dates\n",
    "    # in the growing season (April - October)\n",
    "    maximum_image = landsat578\\\n",
    "                      .filterDate('{}-01-01'.format(year),'{}-12-31'.format(year))\\\n",
    "                      .filter(ee.Filter.dayOfYear(90,305))\\\n",
    "                      .max()\\\n",
    "                      .reproject(landsat578.first().select(0).projection())\n",
    "    \n",
    "    # Retrieve three-year max image for the given year\n",
    "    three_year_filler = landsat578\\\n",
    "                      .filterDate('{}-01-01'.format(year-1),'{}-12-31'.format(year+2))\\\n",
    "                      .filter(ee.Filter.dayOfYear(90,305))\\\n",
    "                      .max()\\\n",
    "                      .reproject(landsat578.first().select(0).projection())\n",
    "                      \n",
    "    \n",
    "    # Add the image to the annual_maximums list, filling pixels in from the three-\n",
    "    # year composite where needed to fill gaps.\n",
    "    annual_maximums.append(ee.ImageCollection.fromImages([maximum_image,three_year_filler])\\\n",
    "                    .reduce(ee.Reducer.firstNonNull())\\\n",
    "                    .rename('BLUE', 'GREEN', 'RED', 'NIR', 'SWIR1', 'SWIR2', 'pixel_qa', 'NDVI', 'NDBI')\\\n",
    "                    .reproject(landsat578.first().select(0).projection())\\\n",
    "                    .set('system:index', str(year)))"
   ]
  },
  {
   "cell_type": "code",
   "execution_count": 174,
   "metadata": {},
   "outputs": [
    {
     "data": {
      "text/html": [
       "<div style=\"width:100%;\"><div style=\"position:relative;width:100%;height:0;padding-bottom:60%;\"><span style=\"color:#565656\">Make this Notebook Trusted to load map: File -> Trust Notebook</span><iframe src=\"about:blank\" style=\"position:absolute;width:100%;height:100%;left:0;top:0;border:none !important;\" data-html=%3C%21DOCTYPE%20html%3E%0A%3Chead%3E%20%20%20%20%0A%20%20%20%20%3Cmeta%20http-equiv%3D%22content-type%22%20content%3D%22text/html%3B%20charset%3DUTF-8%22%20/%3E%0A%20%20%20%20%0A%20%20%20%20%20%20%20%20%3Cscript%3E%0A%20%20%20%20%20%20%20%20%20%20%20%20L_NO_TOUCH%20%3D%20false%3B%0A%20%20%20%20%20%20%20%20%20%20%20%20L_DISABLE_3D%20%3D%20false%3B%0A%20%20%20%20%20%20%20%20%3C/script%3E%0A%20%20%20%20%0A%20%20%20%20%3Cstyle%3Ehtml%2C%20body%20%7Bwidth%3A%20100%25%3Bheight%3A%20100%25%3Bmargin%3A%200%3Bpadding%3A%200%3B%7D%3C/style%3E%0A%20%20%20%20%3Cstyle%3E%23map%20%7Bposition%3Aabsolute%3Btop%3A0%3Bbottom%3A0%3Bright%3A0%3Bleft%3A0%3B%7D%3C/style%3E%0A%20%20%20%20%3Cscript%20src%3D%22https%3A//cdn.jsdelivr.net/npm/leaflet%401.6.0/dist/leaflet.js%22%3E%3C/script%3E%0A%20%20%20%20%3Cscript%20src%3D%22https%3A//code.jquery.com/jquery-1.12.4.min.js%22%3E%3C/script%3E%0A%20%20%20%20%3Cscript%20src%3D%22https%3A//maxcdn.bootstrapcdn.com/bootstrap/3.2.0/js/bootstrap.min.js%22%3E%3C/script%3E%0A%20%20%20%20%3Cscript%20src%3D%22https%3A//cdnjs.cloudflare.com/ajax/libs/Leaflet.awesome-markers/2.0.2/leaflet.awesome-markers.js%22%3E%3C/script%3E%0A%20%20%20%20%3Clink%20rel%3D%22stylesheet%22%20href%3D%22https%3A//cdn.jsdelivr.net/npm/leaflet%401.6.0/dist/leaflet.css%22/%3E%0A%20%20%20%20%3Clink%20rel%3D%22stylesheet%22%20href%3D%22https%3A//maxcdn.bootstrapcdn.com/bootstrap/3.2.0/css/bootstrap.min.css%22/%3E%0A%20%20%20%20%3Clink%20rel%3D%22stylesheet%22%20href%3D%22https%3A//maxcdn.bootstrapcdn.com/bootstrap/3.2.0/css/bootstrap-theme.min.css%22/%3E%0A%20%20%20%20%3Clink%20rel%3D%22stylesheet%22%20href%3D%22https%3A//maxcdn.bootstrapcdn.com/font-awesome/4.6.3/css/font-awesome.min.css%22/%3E%0A%20%20%20%20%3Clink%20rel%3D%22stylesheet%22%20href%3D%22https%3A//cdnjs.cloudflare.com/ajax/libs/Leaflet.awesome-markers/2.0.2/leaflet.awesome-markers.css%22/%3E%0A%20%20%20%20%3Clink%20rel%3D%22stylesheet%22%20href%3D%22https%3A//cdn.jsdelivr.net/gh/python-visualization/folium/folium/templates/leaflet.awesome.rotate.min.css%22/%3E%0A%20%20%20%20%0A%20%20%20%20%20%20%20%20%20%20%20%20%3Cmeta%20name%3D%22viewport%22%20content%3D%22width%3Ddevice-width%2C%0A%20%20%20%20%20%20%20%20%20%20%20%20%20%20%20%20initial-scale%3D1.0%2C%20maximum-scale%3D1.0%2C%20user-scalable%3Dno%22%20/%3E%0A%20%20%20%20%20%20%20%20%20%20%20%20%3Cstyle%3E%0A%20%20%20%20%20%20%20%20%20%20%20%20%20%20%20%20%23map_739f43dab4d04092a620bd9347edcfcc%20%7B%0A%20%20%20%20%20%20%20%20%20%20%20%20%20%20%20%20%20%20%20%20position%3A%20relative%3B%0A%20%20%20%20%20%20%20%20%20%20%20%20%20%20%20%20%20%20%20%20width%3A%20100.0%25%3B%0A%20%20%20%20%20%20%20%20%20%20%20%20%20%20%20%20%20%20%20%20height%3A%20100.0%25%3B%0A%20%20%20%20%20%20%20%20%20%20%20%20%20%20%20%20%20%20%20%20left%3A%200.0%25%3B%0A%20%20%20%20%20%20%20%20%20%20%20%20%20%20%20%20%20%20%20%20top%3A%200.0%25%3B%0A%20%20%20%20%20%20%20%20%20%20%20%20%20%20%20%20%7D%0A%20%20%20%20%20%20%20%20%20%20%20%20%3C/style%3E%0A%20%20%20%20%20%20%20%20%0A%3C/head%3E%0A%3Cbody%3E%20%20%20%20%0A%20%20%20%20%0A%20%20%20%20%20%20%20%20%20%20%20%20%3Cdiv%20class%3D%22folium-map%22%20id%3D%22map_739f43dab4d04092a620bd9347edcfcc%22%20%3E%3C/div%3E%0A%20%20%20%20%20%20%20%20%0A%3C/body%3E%0A%3Cscript%3E%20%20%20%20%0A%20%20%20%20%0A%20%20%20%20%20%20%20%20%20%20%20%20var%20map_739f43dab4d04092a620bd9347edcfcc%20%3D%20L.map%28%0A%20%20%20%20%20%20%20%20%20%20%20%20%20%20%20%20%22map_739f43dab4d04092a620bd9347edcfcc%22%2C%0A%20%20%20%20%20%20%20%20%20%20%20%20%20%20%20%20%7B%0A%20%20%20%20%20%20%20%20%20%20%20%20%20%20%20%20%20%20%20%20center%3A%20%5B40.0%2C%2047.0%5D%2C%0A%20%20%20%20%20%20%20%20%20%20%20%20%20%20%20%20%20%20%20%20crs%3A%20L.CRS.EPSG3857%2C%0A%20%20%20%20%20%20%20%20%20%20%20%20%20%20%20%20%20%20%20%20zoom%3A%2010%2C%0A%20%20%20%20%20%20%20%20%20%20%20%20%20%20%20%20%20%20%20%20zoomControl%3A%20true%2C%0A%20%20%20%20%20%20%20%20%20%20%20%20%20%20%20%20%20%20%20%20preferCanvas%3A%20false%2C%0A%20%20%20%20%20%20%20%20%20%20%20%20%20%20%20%20%7D%0A%20%20%20%20%20%20%20%20%20%20%20%20%29%3B%0A%0A%20%20%20%20%20%20%20%20%20%20%20%20%0A%0A%20%20%20%20%20%20%20%20%0A%20%20%20%20%0A%20%20%20%20%20%20%20%20%20%20%20%20var%20tile_layer_6f271fa4e26d4febabcb9f72b3212943%20%3D%20L.tileLayer%28%0A%20%20%20%20%20%20%20%20%20%20%20%20%20%20%20%20%22https%3A//%7Bs%7D.tile.openstreetmap.org/%7Bz%7D/%7Bx%7D/%7By%7D.png%22%2C%0A%20%20%20%20%20%20%20%20%20%20%20%20%20%20%20%20%7B%22attribution%22%3A%20%22Data%20by%20%5Cu0026copy%3B%20%5Cu003ca%20href%3D%5C%22http%3A//openstreetmap.org%5C%22%5Cu003eOpenStreetMap%5Cu003c/a%5Cu003e%2C%20under%20%5Cu003ca%20href%3D%5C%22http%3A//www.openstreetmap.org/copyright%5C%22%5Cu003eODbL%5Cu003c/a%5Cu003e.%22%2C%20%22detectRetina%22%3A%20false%2C%20%22maxNativeZoom%22%3A%2018%2C%20%22maxZoom%22%3A%2018%2C%20%22minZoom%22%3A%200%2C%20%22noWrap%22%3A%20false%2C%20%22opacity%22%3A%201%2C%20%22subdomains%22%3A%20%22abc%22%2C%20%22tms%22%3A%20false%7D%0A%20%20%20%20%20%20%20%20%20%20%20%20%29.addTo%28map_739f43dab4d04092a620bd9347edcfcc%29%3B%0A%20%20%20%20%20%20%20%20%0A%20%20%20%20%0A%20%20%20%20%20%20%20%20%20%20%20%20var%20tile_layer_bd8d6a5e031c497e8f924b759579beda%20%3D%20L.tileLayer%28%0A%20%20%20%20%20%20%20%20%20%20%20%20%20%20%20%20%22https%3A//earthengine.googleapis.com/v1alpha/projects/earthengine-legacy/maps/917612336e297473955b4b15541f7d06-21ed6a105b8d48778206b53b1715c55a/tiles/%7Bz%7D/%7Bx%7D/%7By%7D%22%2C%0A%20%20%20%20%20%20%20%20%20%20%20%20%20%20%20%20%7B%22attribution%22%3A%20%22Google%20Earth%20Engine%22%2C%20%22detectRetina%22%3A%20false%2C%20%22maxNativeZoom%22%3A%2018%2C%20%22maxZoom%22%3A%2018%2C%20%22minZoom%22%3A%200%2C%20%22noWrap%22%3A%20false%2C%20%22opacity%22%3A%201%2C%20%22subdomains%22%3A%20%22abc%22%2C%20%22tms%22%3A%20false%7D%0A%20%20%20%20%20%20%20%20%20%20%20%20%29.addTo%28map_739f43dab4d04092a620bd9347edcfcc%29%3B%0A%20%20%20%20%20%20%20%20%0A%20%20%20%20%0A%20%20%20%20%20%20%20%20%20%20%20%20var%20layer_control_56a6be05716d42f28f36d491926c9009%20%3D%20%7B%0A%20%20%20%20%20%20%20%20%20%20%20%20%20%20%20%20base_layers%20%3A%20%7B%0A%20%20%20%20%20%20%20%20%20%20%20%20%20%20%20%20%20%20%20%20%22openstreetmap%22%20%3A%20tile_layer_6f271fa4e26d4febabcb9f72b3212943%2C%0A%20%20%20%20%20%20%20%20%20%20%20%20%20%20%20%20%7D%2C%0A%20%20%20%20%20%20%20%20%20%20%20%20%20%20%20%20overlays%20%3A%20%20%7B%0A%20%20%20%20%20%20%20%20%20%20%20%20%20%20%20%20%20%20%20%20%22Sums%22%20%3A%20tile_layer_bd8d6a5e031c497e8f924b759579beda%2C%0A%20%20%20%20%20%20%20%20%20%20%20%20%20%20%20%20%7D%2C%0A%20%20%20%20%20%20%20%20%20%20%20%20%7D%3B%0A%20%20%20%20%20%20%20%20%20%20%20%20L.control.layers%28%0A%20%20%20%20%20%20%20%20%20%20%20%20%20%20%20%20layer_control_56a6be05716d42f28f36d491926c9009.base_layers%2C%0A%20%20%20%20%20%20%20%20%20%20%20%20%20%20%20%20layer_control_56a6be05716d42f28f36d491926c9009.overlays%2C%0A%20%20%20%20%20%20%20%20%20%20%20%20%20%20%20%20%7B%22autoZIndex%22%3A%20true%2C%20%22collapsed%22%3A%20true%2C%20%22position%22%3A%20%22topright%22%7D%0A%20%20%20%20%20%20%20%20%20%20%20%20%29.addTo%28map_739f43dab4d04092a620bd9347edcfcc%29%3B%0A%20%20%20%20%20%20%20%20%0A%3C/script%3E onload=\"this.contentDocument.open();this.contentDocument.write(    decodeURIComponent(this.getAttribute('data-html')));this.contentDocument.close();\" allowfullscreen webkitallowfullscreen mozallowfullscreen></iframe></div></div>"
      ],
      "text/plain": [
       "<folium.folium.Map at 0x1dcc57419a0>"
      ]
     },
     "execution_count": 174,
     "metadata": {},
     "output_type": "execute_result"
    }
   ],
   "source": [
    "# Map images\n",
    "\n",
    "map = folium.Map(location=[40,47],zoom_start=10)\n",
    "vis_params = {'palette':['red', 'yellow', 'green']}\n",
    "to_map = annual_maximums[25].select('NDVI').clip(agdam).getMapId(vis_params)\n",
    "folium.raster_layers.TileLayer(\n",
    "    tiles=to_map['tile_fetcher'].url_format,\n",
    "    attr='Google Earth Engine',\n",
    "    overlay=True,\n",
    "    control=True,\n",
    "    name='Sums',\n",
    "  ).add_to(map)\n",
    "map.add_child(folium.LayerControl())\n",
    "map"
   ]
  },
  {
   "cell_type": "code",
   "execution_count": null,
   "metadata": {},
   "outputs": [],
   "source": [
    "%%time\n",
    "# NDVI Images\n",
    "rect = ee.Geometry.Polygon(\n",
    "        [[[47.0, 40.15],\n",
    "          [47.0, 40.0],\n",
    "          [47.15, 40.0],\n",
    "          [47.15, 40.15]]])\n",
    "\n",
    "# save_dir = r\"G:\\My Drive\\GEE\\GEE13MAR21_testing\"\n",
    "for i in range(25,26): # len(annual_maximums)\n",
    "    in_image = ee.Image(annual_maximums[i])\n",
    "    ee_array = in_image.sampleRectangle(region=rect,defaultValue=0)\n",
    "    np_array_ndvi = np.array(ee_array.get('NIR').getInfo())\n",
    "    plt.figure(figsize=(20,12))\n",
    "    plt.imshow(np_array_ndvi)\n",
    "#     img_year = in_image.get('system:index').getInfo()\n",
    "#     out_image = Image.fromarray(np_array_ndvi)\n",
    "#     out_image.save(os.path.join(save_dir,f\"ndvi_image_{img_year}.tif\"))"
   ]
  },
  {
   "cell_type": "code",
   "execution_count": null,
   "metadata": {},
   "outputs": [],
   "source": [
    "import glob\n",
    "tif_list = glob.glob(r\"G:\\My Drive\\GEE\\GEE13MAR21_testing\\*.tif\")\n",
    "tif_list.sort()\n",
    "ndvi_array_list = []\n",
    "ndvi_date_list = []\n",
    "for image in tif_list:\n",
    "    img = Image.open(image)\n",
    "    np_img = np.array(img)\n",
    "    date = datetime.datetime.strptime(image.split(\"\\\\\")[-1][11:21],'%Y-%m-%d')\n",
    "    ndvi_date_list.append(date.timestamp())\n",
    "    ndvi_array_list.append(np_img)\n",
    "fig, axes = plt.subplots(2,4,subplot_kw={'xticks':(),'yticks':()},figsize=(20,12))\n",
    "for image, ax in zip(list2,axes.ravel()):\n",
    "    ax.imshow(image)"
   ]
  },
  {
   "cell_type": "code",
   "execution_count": 82,
   "metadata": {},
   "outputs": [],
   "source": [
    "# Export annual max images\n",
    "for i in range(0,len(annual_maximums)): \n",
    "    image = annual_maximums[i].select('BLUE', 'GREEN', 'RED', 'NIR', 'SWIR1', 'SWIR2', 'NDVI', 'NDBI')\n",
    "    task = ee.batch.Export.image.toDrive(image=image,\n",
    "          description='agdam_max_'+str(image.get('system:index').getInfo()),\n",
    "          folder= 'Agdam_Landsat_Max_Filled2',\n",
    "          fileNamePrefix='agdam_max_'+str(image.get('system:index').getInfo()),\n",
    "          region=agdam,\n",
    "          scale=30,\n",
    "          crs=landsat578.first().select(0).projection(),\n",
    "          skipEmptyTiles=True)\n",
    "    task.start()"
   ]
  },
  {
   "cell_type": "code",
   "execution_count": null,
   "metadata": {},
   "outputs": [],
   "source": [
    "def normalize(image):\n",
    "    bands = ['BLUE', 'GREEN', 'RED', 'NIR', 'SWIR1', 'SWIR2']\n",
    "    std = image.reduceRegion(reducer = ee.Reducer.stdDev(),\n",
    "                                geometry = agdam,\n",
    "                                maxPixels = 1e9).getInfo()\n",
    "    mean = image.reduceRegion(reducer = ee.Reducer.mean(),\n",
    "                                geometry = agdam,\n",
    "                                maxPixels = 1e9).getInfo()\n",
    "    holder = []\n",
    "    for band in bands:\n",
    "        img = image.select(band)\n",
    "        img_std = std[f\"{band}\"]\n",
    "        img_mean = mean[f\"{band}\"]\n",
    "        norm_image = img.subtract(img_mean).divide(img_std).multiply(100)\n",
    "        holder.append(norm_image.rename(f\"{band}\").toShort())\n",
    "    return image.select('NDVI','NDBI').addBands(holder)"
   ]
  }
 ],
 "metadata": {
  "kernelspec": {
   "display_name": "Python 3",
   "language": "python",
   "name": "python3"
  },
  "language_info": {
   "codemirror_mode": {
    "name": "ipython",
    "version": 3
   },
   "file_extension": ".py",
   "mimetype": "text/x-python",
   "name": "python",
   "nbconvert_exporter": "python",
   "pygments_lexer": "ipython3",
   "version": "3.8.5"
  }
 },
 "nbformat": 4,
 "nbformat_minor": 4
}
